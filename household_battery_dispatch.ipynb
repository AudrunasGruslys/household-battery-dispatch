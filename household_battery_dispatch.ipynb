{
  "nbformat": 4,
  "nbformat_minor": 0,
  "metadata": {
    "colab": {
      "provenance": [],
      "authorship_tag": "ABX9TyPt5h8cNFnQyrWUnyz1NhqR",
      "include_colab_link": true
    },
    "kernelspec": {
      "name": "python3",
      "display_name": "Python 3"
    },
    "language_info": {
      "name": "python"
    }
  },
  "cells": [
    {
      "cell_type": "markdown",
      "metadata": {
        "id": "view-in-github",
        "colab_type": "text"
      },
      "source": [
        "<a href=\"https://colab.research.google.com/github/rzylius/household-battery-dispatch/blob/main/household_battery_dispatch.ipynb\" target=\"_parent\"><img src=\"https://colab.research.google.com/assets/colab-badge.svg\" alt=\"Open In Colab\"/></a>"
      ]
    },
    {
      "cell_type": "code",
      "source": [
        "!pip install pulp"
      ],
      "metadata": {
        "colab": {
          "base_uri": "https://localhost:8080/"
        },
        "id": "-Cjx1YE7qN1b",
        "outputId": "7393232f-8e88-4734-9304-e3c9bcca1f97"
      },
      "execution_count": 2,
      "outputs": [
        {
          "output_type": "stream",
          "name": "stdout",
          "text": [
            "Collecting pulp\n",
            "  Downloading PuLP-2.7.0-py3-none-any.whl (14.3 MB)\n",
            "\u001b[2K     \u001b[90m━━━━━━━━━━━━━━━━━━━━━━━━━━━━━━━━━━━━━━━━\u001b[0m \u001b[32m14.3/14.3 MB\u001b[0m \u001b[31m73.2 MB/s\u001b[0m eta \u001b[36m0:00:00\u001b[0m\n",
            "\u001b[?25hInstalling collected packages: pulp\n",
            "Successfully installed pulp-2.7.0\n"
          ]
        }
      ]
    },
    {
      "cell_type": "code",
      "execution_count": 7,
      "metadata": {
        "colab": {
          "base_uri": "https://localhost:8080/"
        },
        "id": "JuoEiTDDJcgv",
        "outputId": "506969ea-bde3-403d-9984-615b6cff399a"
      },
      "outputs": [
        {
          "output_type": "stream",
          "name": "stdout",
          "text": [
            "[16.17, 15.62, 15.01, 14.6, 16.01, 16.95, 21.92, 26.49, 26.49, 24.33, 22.6, 22.0, 21.28, 20.87, 21.83, 23.7, 27.01, 27.86, 28.32, 28.67, 27.51, 20.99, 18.71, 16.62]\n"
          ]
        }
      ],
      "source": [
        "# Retrieve Nordpool prices of LT region and form a list\n",
        "import requests\n",
        "\n",
        "URL = \"http://np-lt-day-ahead-pricing.azurewebsites.net/api/date/today\"\n",
        "#URL = \"http://np-lt-day-ahead-pricing.azurewebsites.net/api/date/tomorrow\"\n",
        "\n",
        "np = requests.get(URL)\n",
        "d=np.json()\n",
        "d.pop('metadata')\n",
        "data = sorted(d.items(), key=lambda x: x[1])\n",
        "\n",
        "d_normal = d\n",
        "\n",
        "p = []\n",
        "for i in d:\n",
        "  p.append(d[i])\n",
        "print(p)"
      ]
    },
    {
      "cell_type": "code",
      "source": [
        "import pulp\n",
        "\n",
        "def optimize_power_consumption(battery_capacity,\n",
        "                               hourly_prices,\n",
        "                               initial_soc,\n",
        "                               target_soc,\n",
        "                               hourly_consumption,\n",
        "                               kwh_cycle_cost,\n",
        "                               max_charge_power):\n",
        "\n",
        "    # Create a linear programming problem\n",
        "    problem = pulp.LpProblem(\"Power_Optimization\", pulp.LpMinimize)\n",
        "\n",
        "    # Define decision variables\n",
        "    hours = range(len(hourly_prices))\n",
        "\n",
        "    command = pulp.LpVariable.dicts(\"Command\", hours, lowBound = 0, upBound= max_charge_power + hourly_consumption)\n",
        "    soc = pulp.LpVariable.dicts(\"SOC\", hours, lowBound=0, upBound=battery_capacity)\n",
        "\n",
        "    # Define the objective function to minimize cost\n",
        "    # TODO: debug hot to add costs of cycle to equation\n",
        "    problem += pulp.lpSum(hourly_prices[hour] * command[hour] for hour in hours) + (pulp.lpSum(command[hour] for hour in hours) - hourly_consumption)*kwh_cycle_cost\n",
        "\n",
        "    # Define constraints\n",
        "    for hour in hours:\n",
        "      if hour == 0: init_soc = initial_soc\n",
        "      else: init_soc = soc[hour -1]\n",
        "      problem += soc[hour] == init_soc - hourly_consumption + command[hour]\n",
        "      problem += soc[hour] <= battery_capacity # battery soc does not exceed capacity\n",
        "      problem += soc[hour] >= 2 # battery soc should not go lower than that\n",
        "\n",
        "    # Ensure that the target SOC is achieved at the end\n",
        "    problem += soc[23] == target_soc\n",
        "\n",
        "    # Solve the linear programming problem\n",
        "    status = problem.solve()\n",
        "\n",
        "\n",
        "\n",
        "    # Extract the optimal solution\n",
        "    optimization_result = {\n",
        "        \"Hour\": [],\n",
        "        \"Command\": [],\n",
        "        \"Projected_SOC\": []\n",
        "    }\n",
        "\n",
        "    optimization_res = []\n",
        "\n",
        "    print(f\"Optimization produced result: {pulp.LpStatus[status]}\")\n",
        "    print()\n",
        "    print(\"Battery commands\")\n",
        "    print(f\"Initial SOC {initial_soc}\")\n",
        "    print(\"Hour - kWh price - Command - SOC - Grid consumption - No opt price - Opt price\")\n",
        "\n",
        "    for hour in hours:\n",
        "        optimization_result[\"Hour\"].append(hour)\n",
        "        optimization_result[\"Command\"].append(\"Charge\" if command[hour].varValue > (hourly_consumption+0.1) else \"Discharge\" if command[hour].varValue < (hourly_consumption-0.1) else \"Idle\")\n",
        "        optimization_result[\"Projected_SOC\"].append(soc[hour].varValue)\n",
        "\n",
        "        r = []\n",
        "        r.append(hour)\n",
        "        r.append(round(hourly_prices[hour],2))\n",
        "        r.append(\"Charge   \" if command[hour].varValue > (hourly_consumption+0.1) else \"Discharge\" if command[hour].varValue < (hourly_consumption-0.1) else \"Idle     \")\n",
        "        r.append(command[hour].varValue)\n",
        "        r.append(soc[hour].varValue)\n",
        "        r.append(round(hourly_prices[hour] * hourly_consumption ,2))\n",
        "        r.append(round(hourly_prices[hour] * command[hour].varValue ,2))\n",
        "        optimization_res.append(r)\n",
        "        print(r)\n",
        "\n",
        "\n",
        "    return optimization_res\n",
        "\n",
        "# Example usage:\n",
        "battery_capacity = 15  # kWh\n",
        "#hourly_prices = p\n",
        "hourly_prices = [15, 18, 19, 10, 10, 10, 10, 10, 10, 10, 10, 12, 14, 15, 15, 13, 14, 12, 15, 14, 13, 11, 10, 13]\n",
        "initial_soc = 10  # kWh\n",
        "target_soc = 10  # kWh\n",
        "hourly_consumption = 1.2 # kwh the house consumes approx every hour\n",
        "cost_of_cycle = 5 # cents it costs per charge/discharge cycle of the battery (depreciacion costs)\n",
        "max_charge_power = 5 # maximum power in KW that battery can be charged with\n",
        "\n",
        "result = optimize_power_consumption(battery_capacity, hourly_prices, initial_soc, target_soc, hourly_consumption, cost_of_cycle, max_charge_power)\n",
        "\n",
        "print()\n",
        "print()\n",
        "print(\"Optimization results\")\n",
        "\n",
        "print(f\"No optimization. Total {sum([i[3] for i in result]):.2f} kwh. Avg {(sum([i[5] for i in result])/len(result)):.2f} ct/kwh. Total bill {sum([i[5] for i in result])/100:.2f} EUR\")\n",
        "print(f\"Po optimizavimo. Total {sum([i[3] for i in result]):.2f} kwh. Avg {sum([i[6] for i in result])/len(result):.2f} ct/kwh. Total bill {sum([i[6] for i in result])/100:.2f} EUR\")\n",
        "\n"
      ],
      "metadata": {
        "colab": {
          "base_uri": "https://localhost:8080/"
        },
        "id": "eRqizWoUa5LH",
        "outputId": "57703b28-fe4d-430d-edc9-94e4c0a5ce7f"
      },
      "execution_count": 5,
      "outputs": [
        {
          "output_type": "stream",
          "name": "stdout",
          "text": [
            "Optimization produced result: Optimal\n",
            "\n",
            "Battery commands\n",
            "Initial SOC 10\n",
            "Hour - kWh price - Command - SOC - Grid consumption - No opt price - Opt price\n",
            "[0, 15, 'Discharge', 0.0, 8.8, 18.0, 0.0]\n",
            "[1, 18, 'Discharge', 0.0, 7.6, 21.6, 0.0]\n",
            "[2, 19, 'Discharge', 0.0, 6.4, 22.8, 0.0]\n",
            "[3, 10, 'Discharge', 0.0, 5.2, 12.0, 0.0]\n",
            "[4, 10, 'Discharge', 0.0, 4.0, 12.0, 0.0]\n",
            "[5, 10, 'Discharge', 0.0, 2.8, 12.0, 0.0]\n",
            "[6, 10, 'Discharge', 0.4, 2.0, 12.0, 4.0]\n",
            "[7, 10, 'Idle     ', 1.2, 2.0, 12.0, 12.0]\n",
            "[8, 10, 'Charge   ', 4.2, 5.0, 12.0, 42.0]\n",
            "[9, 10, 'Charge   ', 6.2, 10.0, 12.0, 62.0]\n",
            "[10, 10, 'Charge   ', 6.2, 15.0, 12.0, 62.0]\n",
            "[11, 12, 'Discharge', 0.0, 13.8, 14.4, 0.0]\n",
            "[12, 14, 'Discharge', 0.0, 12.6, 16.8, 0.0]\n",
            "[13, 15, 'Discharge', 0.0, 11.4, 18.0, 0.0]\n",
            "[14, 15, 'Discharge', 0.0, 10.2, 18.0, 0.0]\n",
            "[15, 13, 'Discharge', 0.0, 9.0, 15.6, 0.0]\n",
            "[16, 14, 'Discharge', 0.0, 7.8, 16.8, 0.0]\n",
            "[17, 12, 'Discharge', 0.0, 6.6, 14.4, 0.0]\n",
            "[18, 15, 'Discharge', 0.0, 5.4, 18.0, 0.0]\n",
            "[19, 14, 'Discharge', 0.0, 4.2, 16.8, 0.0]\n",
            "[20, 13, 'Discharge', 0.0, 3.0, 15.6, 0.0]\n",
            "[21, 11, 'Charge   ', 4.4, 6.2, 13.2, 48.4]\n",
            "[22, 10, 'Charge   ', 6.2, 11.2, 12.0, 62.0]\n",
            "[23, 13, 'Discharge', 0.0, 10.0, 15.6, 0.0]\n",
            "\n",
            "\n",
            "Optimization results\n",
            "No optimization. Total 28.80 kwh. Avg 15.15 ct/kwh. Total bill 3.64 EUR\n",
            "Po optimizavimo. Total 28.80 kwh. Avg 12.18 ct/kwh. Total bill 2.92 EUR\n"
          ]
        }
      ]
    }
  ]
}